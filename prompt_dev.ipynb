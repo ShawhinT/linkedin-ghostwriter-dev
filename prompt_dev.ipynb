{
 "cells": [
  {
   "cell_type": "markdown",
   "id": "b113316b-b62a-44dc-b843-2c0687be4f39",
   "metadata": {},
   "source": [
    "# LinkedIn Ghostwriter Prompt Optimization\n",
    "\n",
    "Code authored by: Shaw Talebi"
   ]
  },
  {
   "cell_type": "markdown",
   "id": "813b36b5-0599-46bf-a774-c6da9cdfbce2",
   "metadata": {},
   "source": [
    "### imports"
   ]
  },
  {
   "cell_type": "code",
   "execution_count": 1,
   "id": "006d6900-6055-4fc3-8582-5bb12a4ee723",
   "metadata": {},
   "outputs": [],
   "source": [
    "import csv\n",
    "import yaml\n",
    "from datetime import datetime\n",
    "from utils.evals import eval_voice, eval_em_dashes\n",
    "from utils.experiments import init_experiment, generate_posts, run_evals, compute_results, compute_summary\n",
    "from utils import evals"
   ]
  },
  {
   "cell_type": "markdown",
   "id": "d2eb5221-35e6-4a4f-bde5-12da123f8ba7",
   "metadata": {},
   "source": [
    "### init experiment"
   ]
  },
  {
   "cell_type": "code",
   "execution_count": 2,
   "id": "25f8552b-13a9-4d56-a75f-0034c6381312",
   "metadata": {},
   "outputs": [],
   "source": [
    "# define variables\n",
    "input_path = \"data/inputs/inputs-shaw-test.csv\"\n",
    "prompt_path = \"prompts/ghostwriter/prompt-v5.md\"\n",
    "model_name = \"gpt-4.1-2025-04-14\"\n",
    "num_posts = None"
   ]
  },
  {
   "cell_type": "code",
   "execution_count": 3,
   "id": "46b2ac39-0e69-495f-bc38-a1b4ec9a6e6e",
   "metadata": {},
   "outputs": [
    {
     "name": "stdout",
     "output_type": "stream",
     "text": [
      "Experiment initialized: experiments/2025_06_19-prompt_v5-inputs_shaw_test-num_posts_10\n",
      "\n",
      "Config YAML content:\n",
      "name: 2025_06_19-prompt_v5-inputs_shaw_test-num_posts_10\n",
      "date: '2025-06-19'\n",
      "prompt_name: prompt-v5\n",
      "prompt_path: prompts/ghostwriter/prompt-v5.md\n",
      "model:\n",
      "  name: gpt-4.1-2025-04-14\n",
      "  temperature: 1\n",
      "inputs:\n",
      "  num_posts: 10\n",
      "  total_posts: 10\n",
      "  input_path: data/inputs/inputs-shaw-test.csv\n",
      "evals:\n",
      "  eval_em_dashes:\n",
      "    description: Evaluates the number of em-dashes in a post.\n",
      "    type: code-based\n",
      "    args: null\n",
      "  eval_voice:\n",
      "    description: Evaluates the voice of a LinkedIn post using an LLM Judge.\n",
      "    type: LLM-based\n",
      "    args:\n",
      "      prompt_path: prompts/judge-voice/prompt-v7.md\n",
      "      model_name: gpt-4.1-2025-04-14\n",
      "notes: ''\n",
      "\n",
      "\n",
      " To make changes, edit the config.yaml file directly.\n"
     ]
    }
   ],
   "source": [
    "# create new experiment\n",
    "experiment_folder = init_experiment(prompt_path, input_path, model_name, num_posts=num_posts)"
   ]
  },
  {
   "cell_type": "markdown",
   "id": "c7ea0eb9-2400-41fb-84d9-d7a7054eb4e3",
   "metadata": {},
   "source": [
    "### 1) generate posts"
   ]
  },
  {
   "cell_type": "code",
   "execution_count": 4,
   "id": "f55ce981-53c8-46ea-abb0-51ebdcf87bb8",
   "metadata": {
    "scrolled": true
   },
   "outputs": [
    {
     "name": "stdout",
     "output_type": "stream",
     "text": [
      "Generating post 1/10...\n",
      "Saved: post-001.json\n",
      "Generating post 2/10...\n",
      "Saved: post-002.json\n",
      "Generating post 3/10...\n",
      "Saved: post-003.json\n",
      "Generating post 4/10...\n",
      "Saved: post-004.json\n",
      "Generating post 5/10...\n",
      "Saved: post-005.json\n",
      "Generating post 6/10...\n",
      "Saved: post-006.json\n",
      "Generating post 7/10...\n",
      "Saved: post-007.json\n",
      "Generating post 8/10...\n",
      "Saved: post-008.json\n",
      "Generating post 9/10...\n",
      "Saved: post-009.json\n",
      "Generating post 10/10...\n",
      "Saved: post-010.json\n",
      "All 10 posts generated and saved to experiments/2025_06_19-prompt_v5-inputs_shaw_test-num_posts_10/posts/\n"
     ]
    }
   ],
   "source": [
    "generate_posts(experiment_folder)"
   ]
  },
  {
   "cell_type": "markdown",
   "id": "f109e2a8-6d1c-4222-aa53-db32bcbc454e",
   "metadata": {},
   "source": [
    "### 2) run evals"
   ]
  },
  {
   "cell_type": "code",
   "execution_count": 5,
   "id": "6137de9a-1a0c-4477-9433-0b7ba744e05b",
   "metadata": {
    "scrolled": true
   },
   "outputs": [
    {
     "name": "stdout",
     "output_type": "stream",
     "text": [
      "Running eval: eval_em_dashes\n",
      "Running eval: eval_em_dashes for post: post-004.json\n",
      "Running eval: eval_em_dashes for post: post-008.json\n",
      "Running eval: eval_em_dashes for post: post-009.json\n",
      "Running eval: eval_em_dashes for post: post-005.json\n",
      "Running eval: eval_em_dashes for post: post-002.json\n",
      "Running eval: eval_em_dashes for post: post-003.json\n",
      "Running eval: eval_em_dashes for post: post-001.json\n",
      "Running eval: eval_em_dashes for post: post-006.json\n",
      "Running eval: eval_em_dashes for post: post-010.json\n",
      "Running eval: eval_em_dashes for post: post-007.json\n",
      "Results saved to experiments/2025_06_19-prompt_v5-inputs_shaw_test-num_posts_10/evals/eval_em_dashes.csv\n",
      "Running eval: eval_voice\n",
      "Running eval: eval_voice for post: post-004.json\n",
      "Running eval: eval_voice for post: post-008.json\n",
      "Running eval: eval_voice for post: post-009.json\n",
      "Running eval: eval_voice for post: post-005.json\n",
      "Running eval: eval_voice for post: post-002.json\n",
      "Running eval: eval_voice for post: post-003.json\n",
      "Running eval: eval_voice for post: post-001.json\n",
      "Running eval: eval_voice for post: post-006.json\n",
      "Running eval: eval_voice for post: post-010.json\n",
      "Running eval: eval_voice for post: post-007.json\n",
      "Results saved to experiments/2025_06_19-prompt_v5-inputs_shaw_test-num_posts_10/evals/eval_voice.csv\n"
     ]
    }
   ],
   "source": [
    "run_evals(experiment_folder)"
   ]
  },
  {
   "cell_type": "markdown",
   "id": "830d27ca-77a5-47f4-8647-0821bc5dc54e",
   "metadata": {},
   "source": [
    "### 3) compute eval results"
   ]
  },
  {
   "cell_type": "code",
   "execution_count": 6,
   "id": "542e3205-7d1e-4001-afb1-b0ccb506166c",
   "metadata": {},
   "outputs": [
    {
     "name": "stdout",
     "output_type": "stream",
     "text": [
      "Computing results for eval_em_dashes.csv\n",
      "Computing results for eval_voice.csv\n",
      "Results saved to experiments/2025_06_19-prompt_v5-inputs_shaw_test-num_posts_10/results.json\n"
     ]
    }
   ],
   "source": [
    "compute_results(experiment_folder)"
   ]
  },
  {
   "cell_type": "markdown",
   "id": "1be7cf02-2ee1-4038-af90-241d5b7c702a",
   "metadata": {},
   "source": [
    "### 4) generate summary of all experiments"
   ]
  },
  {
   "cell_type": "code",
   "execution_count": 7,
   "id": "6950a47f-5f2f-43bb-abf6-7399791f841a",
   "metadata": {},
   "outputs": [
    {
     "name": "stdout",
     "output_type": "stream",
     "text": [
      "Summary saved to summary.csv\n"
     ]
    }
   ],
   "source": [
    "compute_summary()"
   ]
  },
  {
   "cell_type": "code",
   "execution_count": null,
   "id": "25fcfe3c-5d26-499d-adef-719b42547a88",
   "metadata": {},
   "outputs": [],
   "source": []
  },
  {
   "cell_type": "code",
   "execution_count": null,
   "id": "897e65c7-b8ff-47fa-bfcc-74faa1044528",
   "metadata": {},
   "outputs": [],
   "source": []
  }
 ],
 "metadata": {
  "kernelspec": {
   "display_name": "Python 3 (ipykernel)",
   "language": "python",
   "name": "python3"
  },
  "language_info": {
   "codemirror_mode": {
    "name": "ipython",
    "version": 3
   },
   "file_extension": ".py",
   "mimetype": "text/x-python",
   "name": "python",
   "nbconvert_exporter": "python",
   "pygments_lexer": "ipython3",
   "version": "3.12.10"
  }
 },
 "nbformat": 4,
 "nbformat_minor": 5
}
